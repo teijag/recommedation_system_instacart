{
 "cells": [
  {
   "cell_type": "code",
   "execution_count": 1,
   "metadata": {},
   "outputs": [],
   "source": [
    "import sqlite3\n",
    "from matplotlib import pyplot as plt\n",
    "import seaborn as sns\n",
    "import pandas as pd\n",
    "import numpy as np\n",
    "from mlxtend.preprocessing import TransactionEncoder\n",
    "from mlxtend.frequent_patterns import fpgrowth"
   ]
  },
  {
   "cell_type": "code",
   "execution_count": 38,
   "metadata": {},
   "outputs": [
    {
     "name": "stderr",
     "output_type": "stream",
     "text": [
      "/anaconda3/lib/python3.6/site-packages/ipykernel_launcher.py:4: FutureWarning: Passing a negative integer is deprecated in version 1.0 and will not be supported in future version. Instead, use None to not limit the column width.\n",
      "  after removing the cwd from sys.path.\n"
     ]
    }
   ],
   "source": [
    "pd.set_option('display.max_rows', None)\n",
    "pd.set_option('display.max_columns', None)\n",
    "pd.set_option('display.width', None)\n",
    "pd.set_option('display.max_colwidth', -1)"
   ]
  },
  {
   "cell_type": "code",
   "execution_count": 2,
   "metadata": {},
   "outputs": [],
   "source": [
    "conn = sqlite3.connect('instacart.db')"
   ]
  },
  {
   "cell_type": "code",
   "execution_count": 3,
   "metadata": {},
   "outputs": [],
   "source": [
    "c = conn.cursor()"
   ]
  },
  {
   "cell_type": "code",
   "execution_count": 4,
   "metadata": {},
   "outputs": [
    {
     "name": "stdout",
     "output_type": "stream",
     "text": [
      "(2168274, 2, 1, 2, 11, None)\n"
     ]
    }
   ],
   "source": [
    "c.execute(\"select * from orders;\")\n",
    "print (c.fetchone())"
   ]
  },
  {
   "cell_type": "code",
   "execution_count": 5,
   "metadata": {},
   "outputs": [
    {
     "name": "stdout",
     "output_type": "stream",
     "text": [
      "(0, 1, 'prepared soups salads')\n"
     ]
    }
   ],
   "source": [
    "c.execute(\"select * from aisles;\")\n",
    "print (c.fetchone())"
   ]
  },
  {
   "cell_type": "code",
   "execution_count": 6,
   "metadata": {},
   "outputs": [
    {
     "name": "stdout",
     "output_type": "stream",
     "text": [
      "(0, 1, 'frozen')\n"
     ]
    }
   ],
   "source": [
    "c.execute(\"select * from departments;\")\n",
    "print (c.fetchone())"
   ]
  },
  {
   "cell_type": "code",
   "execution_count": 7,
   "metadata": {},
   "outputs": [
    {
     "name": "stdout",
     "output_type": "stream",
     "text": [
      "[(0, 1, 'frozen'), (1, 2, 'other'), (2, 3, 'bakery'), (3, 4, 'produce'), (4, 5, 'alcohol'), (5, 6, 'international'), (6, 7, 'beverages'), (7, 8, 'pets'), (8, 9, 'dry goods pasta'), (9, 10, 'bulk'), (10, 11, 'personal care'), (11, 12, 'meat seafood'), (12, 13, 'pantry'), (13, 14, 'breakfast'), (14, 15, 'canned goods'), (15, 16, 'dairy eggs'), (16, 17, 'household'), (17, 18, 'babies'), (18, 19, 'snacks'), (19, 20, 'deli'), (20, 21, 'missing')]\n"
     ]
    }
   ],
   "source": [
    "c.execute(\"select * from departments;\")\n",
    "print (c.fetchall())"
   ]
  },
  {
   "cell_type": "markdown",
   "metadata": {},
   "source": [
    "## 1. Orders"
   ]
  },
  {
   "cell_type": "markdown",
   "metadata": {},
   "source": [
    "### when do customer order? "
   ]
  },
  {
   "cell_type": "code",
   "execution_count": 8,
   "metadata": {},
   "outputs": [
    {
     "data": {
      "text/plain": [
       "<BarContainer object of 7 artists>"
      ]
     },
     "execution_count": 8,
     "metadata": {},
     "output_type": "execute_result"
    },
    {
     "data": {
      "image/png": "[encoded data removed]",
      "text/plain": [
       "<Figure size 432x288 with 1 Axes>"
      ]
     },
     "metadata": {
      "needs_background": "light"
     },
     "output_type": "display_data"
    }
   ],
   "source": [
    "c.execute('''\n",
    "select order_dow,count(order_id) from orders group by order_dow;\n",
    "''')\n",
    "dist = c.fetchall()\n",
    "dow = [d for d,v in dist]\n",
    "count = [v for d,v in dist]\n",
    "plt.title(\"day of the week\")\n",
    "plt.bar(x = dow, height = count)"
   ]
  },
  {
   "cell_type": "code",
   "execution_count": 9,
   "metadata": {},
   "outputs": [
    {
     "data": {
      "text/plain": [
       "<BarContainer object of 24 artists>"
      ]
     },
     "execution_count": 9,
     "metadata": {},
     "output_type": "execute_result"
    },
    {
     "data": {
      "image/png": "[encoded data removed]",
      "text/plain": [
       "<Figure size 432x288 with 1 Axes>"
      ]
     },
     "metadata": {
      "needs_background": "light"
     },
     "output_type": "display_data"
    }
   ],
   "source": [
    "c.execute('''\n",
    "select order_hour_of_day,count(order_id) from orders group by order_hour_of_day;\n",
    "''')\n",
    "dist = c.fetchall()\n",
    "key = [d for d,v in dist]\n",
    "count = [v for d,v in dist]\n",
    "plt.title(\"hour of the day\")\n",
    "plt.bar(x = key, height = count)"
   ]
  },
  {
   "cell_type": "markdown",
   "metadata": {},
   "source": [
    "### all customers reorder"
   ]
  },
  {
   "cell_type": "code",
   "execution_count": 10,
   "metadata": {},
   "outputs": [
    {
     "name": "stdout",
     "output_type": "stream",
     "text": [
      "[]\n"
     ]
    }
   ],
   "source": [
    "# all customers reorder\n",
    "c.execute('''\n",
    "select * from orders where days_since_prior_order is null\n",
    "and user_id not in (select user_id from orders where days_since_prior_order is not null);\n",
    "''')\n",
    "print (c.fetchall())"
   ]
  },
  {
   "cell_type": "markdown",
   "metadata": {},
   "source": [
    "### how often do customers reorder?"
   ]
  },
  {
   "cell_type": "code",
   "execution_count": 11,
   "metadata": {},
   "outputs": [
    {
     "data": {
      "text/plain": [
       "<BarContainer object of 31 artists>"
      ]
     },
     "execution_count": 11,
     "metadata": {},
     "output_type": "execute_result"
    },
    {
     "data": {
      "image/png": "[encoded data removed]",
      "text/plain": [
       "<Figure size 432x288 with 1 Axes>"
      ]
     },
     "metadata": {
      "needs_background": "light"
     },
     "output_type": "display_data"
    }
   ],
   "source": [
    "c.execute('''\n",
    "select days_since_prior_order,count(order_id) from orders \n",
    "where days_since_prior_order is not null\n",
    "group by days_since_prior_order;\n",
    "''')\n",
    "dist = c.fetchall()\n",
    "key = [d for d,v in dist]\n",
    "count = [v for d,v in dist]\n",
    "plt.title(\"days since prior order\")\n",
    "plt.bar(x = key, height = count)"
   ]
  },
  {
   "cell_type": "markdown",
   "metadata": {},
   "source": [
    "### who are the most loyal customers, and who are the new comers?"
   ]
  },
  {
   "cell_type": "code",
   "execution_count": 12,
   "metadata": {},
   "outputs": [
    {
     "name": "stdout",
     "output_type": "stream",
     "text": [
      "the most loyal customers\n",
      "user 786 ordered 100 times\n",
      "user 4711 ordered 100 times\n",
      "user 5329 ordered 100 times\n",
      "user 6045 ordered 100 times\n",
      "user 6398 ordered 100 times\n",
      "the new customers\n",
      "user 8 ordered 4 times\n",
      "user 119 ordered 4 times\n",
      "user 428 ordered 4 times\n",
      "user 490 ordered 4 times\n",
      "user 491 ordered 4 times\n"
     ]
    }
   ],
   "source": [
    "c.execute('''\n",
    "select user_id, count(user_id)\n",
    "from orders\n",
    "group by user_id\n",
    "order by 2 desc\n",
    "limit 5\n",
    "''')\n",
    "dist = c.fetchall()\n",
    "print (\"the most loyal customers\")\n",
    "for k,v in dist:\n",
    "    print (\"user {} ordered {} times\".format(k,v))\n",
    "\n",
    "c.execute('''\n",
    "select user_id, count(user_id)\n",
    "from orders\n",
    "group by user_id\n",
    "order by 2 \n",
    "limit 5\n",
    "''')\n",
    "dist = c.fetchall()\n",
    "print (\"the new customers\")\n",
    "for k,v in dist:\n",
    "    print (\"user {} ordered {} times\".format(k,v))"
   ]
  },
  {
   "cell_type": "markdown",
   "metadata": {},
   "source": [
    "### customer's order frequency distribution"
   ]
  },
  {
   "cell_type": "code",
   "execution_count": 13,
   "metadata": {},
   "outputs": [
    {
     "data": {
      "text/plain": [
       "<BarContainer object of 97 artists>"
      ]
     },
     "execution_count": 13,
     "metadata": {},
     "output_type": "execute_result"
    },
    {
     "data": {
      "image/png": "[encoded data removed]",
      "text/plain": [
       "<Figure size 576x432 with 1 Axes>"
      ]
     },
     "metadata": {
      "needs_background": "light"
     },
     "output_type": "display_data"
    }
   ],
   "source": [
    "c.execute('''\n",
    "select cnt, count(user_id) from\n",
    "(select user_id, count(user_id) cnt\n",
    "from orders\n",
    "group by user_id)\n",
    "group by cnt;\n",
    "''')\n",
    "dist = c.fetchall()\n",
    "key = [d for d,v in dist]\n",
    "count = [v for d,v in dist]\n",
    "plt.figure(figsize = (8,6))\n",
    "plt.title(\"order frequency\")\n",
    "plt.bar(x = key, height = count)"
   ]
  },
  {
   "cell_type": "code",
   "execution_count": 14,
   "metadata": {},
   "outputs": [
    {
     "data": {
      "text/plain": [
       "<matplotlib.axes._subplots.AxesSubplot at 0x1213cc6a0>"
      ]
     },
     "execution_count": 14,
     "metadata": {},
     "output_type": "execute_result"
    },
    {
     "data": {
      "image/png": "[encoded data removed]",
      "text/plain": [
       "<Figure size 576x432 with 1 Axes>"
      ]
     },
     "metadata": {
      "needs_background": "light"
     },
     "output_type": "display_data"
    }
   ],
   "source": [
    "c.execute('''\n",
    "select count(user_id) cnt\n",
    "from orders\n",
    "group by user_id\n",
    "''')\n",
    "dist = c.fetchall()\n",
    "value = [x[0] for x in dist]\n",
    "plt.figure(figsize = (8,6))\n",
    "\n",
    "plt.title(\"frequency distribution\")\n",
    "sns.distplot(value)"
   ]
  },
  {
   "cell_type": "markdown",
   "metadata": {},
   "source": [
    "## 2. Orders and Products"
   ]
  },
  {
   "cell_type": "markdown",
   "metadata": {},
   "source": [
    "### what are the top 10 most ordered items?"
   ]
  },
  {
   "cell_type": "code",
   "execution_count": 15,
   "metadata": {},
   "outputs": [
    {
     "data": {
      "text/plain": [
       "<BarContainer object of 10 artists>"
      ]
     },
     "execution_count": 15,
     "metadata": {},
     "output_type": "execute_result"
    },
    {
     "data": {
      "image/png": "[encoded data removed]",
      "text/plain": [
       "<Figure size 576x432 with 1 Axes>"
      ]
     },
     "metadata": {
      "needs_background": "light"
     },
     "output_type": "display_data"
    }
   ],
   "source": [
    "c.execute('''\n",
    "select product_name, cnt from\n",
    "(select product_id, count(distinct order_id) cnt\n",
    "from order_products \n",
    "group by product_id\n",
    "order by 2 desc \n",
    "limit 10) left join products using (product_id)\n",
    "''')\n",
    "dist = c.fetchall()\n",
    "key = [k for k,v in dist]\n",
    "count = [v for k,v in dist]\n",
    "plt.figure(figsize=(8,6))\n",
    "plt.xticks(rotation = 35)\n",
    "plt.title(\"most ordered items\")\n",
    "plt.bar(x = key, height = count)"
   ]
  },
  {
   "cell_type": "markdown",
   "metadata": {},
   "source": [
    "### what about the most popular item for each department?"
   ]
  },
  {
   "cell_type": "code",
   "execution_count": 16,
   "metadata": {},
   "outputs": [
    {
     "name": "stdout",
     "output_type": "stream",
     "text": [
      "Category frozen: Blueberries\n",
      "Category other: Roasted Almond Butter\n",
      "Category bakery: 100% Whole Wheat Bread\n",
      "Category produce: Banana\n",
      "Category alcohol: Sauvignon Blanc\n",
      "Category international: Organic Sea Salt Roasted Seaweed Snacks\n",
      "Category beverages: Sparkling Water Grapefruit\n",
      "Category pets: Grain Free Chicken Formula Cat Food\n",
      "Category dry goods pasta: Marinara Sauce\n",
      "Category bulk: Dried Mango\n",
      "Category personal care: Lavender Hand Soap\n",
      "Category meat seafood: Boneless Skinless Chicken Breasts\n",
      "Category pantry: Extra Virgin Olive Oil\n",
      "Category breakfast: Honey Nut Cheerios\n",
      "Category canned goods: Organic Black Beans\n",
      "Category dairy eggs: Organic Whole Milk\n",
      "Category household: 100% Recycled Paper Towels\n",
      "Category babies: Baby Food Stage 2 Blueberry Pear & Purple Carrot\n",
      "Category snacks: Lightly Salted Baked Snap Pea Crisps\n",
      "Category deli: Original Hummus\n",
      "Category missing: Organic Riced Cauliflower\n"
     ]
    }
   ],
   "source": [
    "c.execute('''\n",
    "select department, product_name from\n",
    "(select department_id, product_id, product_name, max(cnt) mx from\n",
    "(select p.department_id, o.product_id, product_name,count(order_id) cnt\n",
    "from order_products o left join products p using (product_id)\n",
    "group by p.department_id, p.product_id)\n",
    "group by department_id) left join departments using (department_id)\n",
    "''')\n",
    "dist = c.fetchall()\n",
    "for k,v in dist:\n",
    "    print (\"Category {}: {}\".format(k,v))"
   ]
  },
  {
   "cell_type": "markdown",
   "metadata": {},
   "source": [
    "### what are somethings that are usually bought together? based on 390K orders"
   ]
  },
  {
   "cell_type": "code",
   "execution_count": 17,
   "metadata": {},
   "outputs": [],
   "source": [
    "c.execute('''\n",
    "select order_id, product_name \n",
    "from order_products left join products using (product_id);\n",
    "''')\n",
    "dist = c.fetchall()"
   ]
  },
  {
   "cell_type": "code",
   "execution_count": 18,
   "metadata": {},
   "outputs": [],
   "source": [
    "items = {}\n",
    "for k,v in dist:\n",
    "    if k not in items:\n",
    "        items[k] = [v]\n",
    "    else:\n",
    "        items[k].append(v)"
   ]
  },
  {
   "cell_type": "code",
   "execution_count": 19,
   "metadata": {},
   "outputs": [],
   "source": [
    "dataset = list(items.values())"
   ]
  },
  {
   "cell_type": "code",
   "execution_count": 20,
   "metadata": {},
   "outputs": [],
   "source": [
    "sample_dataset = dataset[:50]"
   ]
  },
  {
   "cell_type": "code",
   "execution_count": 21,
   "metadata": {},
   "outputs": [
    {
     "data": {
      "text/html": [
       "<div>\n",
       "<style scoped>\n",
       "    .dataframe tbody tr th:only-of-type {\n",
       "        vertical-align: middle;\n",
       "    }\n",
       "\n",
       "    .dataframe tbody tr th {\n",
       "        vertical-align: top;\n",
       "    }\n",
       "\n",
       "    .dataframe thead th {\n",
       "        text-align: right;\n",
       "    }\n",
       "</style>\n",
       "<table border=\"1\" class=\"dataframe\">\n",
       "  <thead>\n",
       "    <tr style=\"text-align: right;\">\n",
       "      <th></th>\n",
       "      <th>#2 Coffee Filters</th>\n",
       "      <th>#2 Cone White Coffee Filters</th>\n",
       "      <th>#2 Mechanical Pencils</th>\n",
       "      <th>#4 Natural Brown Coffee Filters</th>\n",
       "      <th>&amp; Go! Hazelnut Spread + Pretzel Sticks</th>\n",
       "      <th>(70% Juice!) Mountain Raspberry Juice Squeeze</th>\n",
       "      <th>+Energy Black Cherry Vegetable &amp; Fruit Juice</th>\n",
       "      <th>.5\\\" Waterproof Tape</th>\n",
       "      <th>0 Calorie Fuji Apple Pear Water Beverage</th>\n",
       "      <th>0 Calorie Strawberry Dragonfruit Water Beverage</th>\n",
       "      <th>...</th>\n",
       "      <th>with Sweet Cinnamon Bunches Cereal</th>\n",
       "      <th>with Twist Ties Sandwich &amp; Storage Bags</th>\n",
       "      <th>with Xylitol Cinnamon 18 Sticks Sugar Free Gum</th>\n",
       "      <th>with Xylitol Island Berry Lime 18 Sticks Sugar Free Gum</th>\n",
       "      <th>with Xylitol Original Flavor 18 Sticks Sugar Free Gum</th>\n",
       "      <th>with Xylitol Unwrapped Original Flavor 50 Sticks Sugar Free Gum</th>\n",
       "      <th>with Xylitol Unwrapped Spearmint 50 Sticks Sugar Free Gum</th>\n",
       "      <th>with Xylitol Watermelon Twist 18 Sticks Sugar Free Gum</th>\n",
       "      <th>with a Splash of Mango Coconut Water</th>\n",
       "      <th>with a Splash of Pineapple Coconut Water</th>\n",
       "    </tr>\n",
       "  </thead>\n",
       "  <tbody>\n",
       "    <tr>\n",
       "      <th>0</th>\n",
       "      <td>False</td>\n",
       "      <td>False</td>\n",
       "      <td>False</td>\n",
       "      <td>False</td>\n",
       "      <td>False</td>\n",
       "      <td>False</td>\n",
       "      <td>False</td>\n",
       "      <td>False</td>\n",
       "      <td>False</td>\n",
       "      <td>False</td>\n",
       "      <td>...</td>\n",
       "      <td>False</td>\n",
       "      <td>False</td>\n",
       "      <td>False</td>\n",
       "      <td>False</td>\n",
       "      <td>False</td>\n",
       "      <td>False</td>\n",
       "      <td>False</td>\n",
       "      <td>False</td>\n",
       "      <td>False</td>\n",
       "      <td>False</td>\n",
       "    </tr>\n",
       "    <tr>\n",
       "      <th>1</th>\n",
       "      <td>False</td>\n",
       "      <td>False</td>\n",
       "      <td>False</td>\n",
       "      <td>False</td>\n",
       "      <td>False</td>\n",
       "      <td>False</td>\n",
       "      <td>False</td>\n",
       "      <td>False</td>\n",
       "      <td>False</td>\n",
       "      <td>False</td>\n",
       "      <td>...</td>\n",
       "      <td>False</td>\n",
       "      <td>False</td>\n",
       "      <td>False</td>\n",
       "      <td>False</td>\n",
       "      <td>False</td>\n",
       "      <td>False</td>\n",
       "      <td>False</td>\n",
       "      <td>False</td>\n",
       "      <td>False</td>\n",
       "      <td>False</td>\n",
       "    </tr>\n",
       "    <tr>\n",
       "      <th>2</th>\n",
       "      <td>False</td>\n",
       "      <td>False</td>\n",
       "      <td>False</td>\n",
       "      <td>False</td>\n",
       "      <td>False</td>\n",
       "      <td>False</td>\n",
       "      <td>False</td>\n",
       "      <td>False</td>\n",
       "      <td>False</td>\n",
       "      <td>False</td>\n",
       "      <td>...</td>\n",
       "      <td>False</td>\n",
       "      <td>False</td>\n",
       "      <td>False</td>\n",
       "      <td>False</td>\n",
       "      <td>False</td>\n",
       "      <td>False</td>\n",
       "      <td>False</td>\n",
       "      <td>False</td>\n",
       "      <td>False</td>\n",
       "      <td>False</td>\n",
       "    </tr>\n",
       "    <tr>\n",
       "      <th>3</th>\n",
       "      <td>False</td>\n",
       "      <td>False</td>\n",
       "      <td>False</td>\n",
       "      <td>False</td>\n",
       "      <td>False</td>\n",
       "      <td>False</td>\n",
       "      <td>False</td>\n",
       "      <td>False</td>\n",
       "      <td>False</td>\n",
       "      <td>False</td>\n",
       "      <td>...</td>\n",
       "      <td>False</td>\n",
       "      <td>False</td>\n",
       "      <td>False</td>\n",
       "      <td>False</td>\n",
       "      <td>False</td>\n",
       "      <td>False</td>\n",
       "      <td>False</td>\n",
       "      <td>False</td>\n",
       "      <td>False</td>\n",
       "      <td>False</td>\n",
       "    </tr>\n",
       "    <tr>\n",
       "      <th>4</th>\n",
       "      <td>False</td>\n",
       "      <td>False</td>\n",
       "      <td>False</td>\n",
       "      <td>False</td>\n",
       "      <td>False</td>\n",
       "      <td>False</td>\n",
       "      <td>False</td>\n",
       "      <td>False</td>\n",
       "      <td>False</td>\n",
       "      <td>False</td>\n",
       "      <td>...</td>\n",
       "      <td>False</td>\n",
       "      <td>False</td>\n",
       "      <td>False</td>\n",
       "      <td>False</td>\n",
       "      <td>False</td>\n",
       "      <td>False</td>\n",
       "      <td>False</td>\n",
       "      <td>False</td>\n",
       "      <td>False</td>\n",
       "      <td>False</td>\n",
       "    </tr>\n",
       "  </tbody>\n",
       "</table>\n",
       "<p>5 rows × 42814 columns</p>\n",
       "</div>"
      ],
      "text/plain": [
       "   #2 Coffee Filters  #2 Cone White Coffee Filters  #2 Mechanical Pencils  \\\n",
       "0              False                         False                  False   \n",
       "1              False                         False                  False   \n",
       "2              False                         False                  False   \n",
       "3              False                         False                  False   \n",
       "4              False                         False                  False   \n",
       "\n",
       "   #4 Natural Brown Coffee Filters  & Go! Hazelnut Spread + Pretzel Sticks  \\\n",
       "0                            False                                   False   \n",
       "1                            False                                   False   \n",
       "2                            False                                   False   \n",
       "3                            False                                   False   \n",
       "4                            False                                   False   \n",
       "\n",
       "   (70% Juice!) Mountain Raspberry Juice Squeeze  \\\n",
       "0                                          False   \n",
       "1                                          False   \n",
       "2                                          False   \n",
       "3                                          False   \n",
       "4                                          False   \n",
       "\n",
       "   +Energy Black Cherry Vegetable & Fruit Juice  .5\\\" Waterproof Tape  \\\n",
       "0                                         False                 False   \n",
       "1                                         False                 False   \n",
       "2                                         False                 False   \n",
       "3                                         False                 False   \n",
       "4                                         False                 False   \n",
       "\n",
       "   0 Calorie Fuji Apple Pear Water Beverage  \\\n",
       "0                                     False   \n",
       "1                                     False   \n",
       "2                                     False   \n",
       "3                                     False   \n",
       "4                                     False   \n",
       "\n",
       "   0 Calorie Strawberry Dragonfruit Water Beverage  ...  \\\n",
       "0                                            False  ...   \n",
       "1                                            False  ...   \n",
       "2                                            False  ...   \n",
       "3                                            False  ...   \n",
       "4                                            False  ...   \n",
       "\n",
       "   with Sweet Cinnamon Bunches Cereal  \\\n",
       "0                               False   \n",
       "1                               False   \n",
       "2                               False   \n",
       "3                               False   \n",
       "4                               False   \n",
       "\n",
       "   with Twist Ties Sandwich & Storage Bags  \\\n",
       "0                                    False   \n",
       "1                                    False   \n",
       "2                                    False   \n",
       "3                                    False   \n",
       "4                                    False   \n",
       "\n",
       "   with Xylitol Cinnamon 18 Sticks Sugar Free Gum  \\\n",
       "0                                           False   \n",
       "1                                           False   \n",
       "2                                           False   \n",
       "3                                           False   \n",
       "4                                           False   \n",
       "\n",
       "   with Xylitol Island Berry Lime 18 Sticks Sugar Free Gum  \\\n",
       "0                                              False         \n",
       "1                                              False         \n",
       "2                                              False         \n",
       "3                                              False         \n",
       "4                                              False         \n",
       "\n",
       "   with Xylitol Original Flavor 18 Sticks Sugar Free Gum  \\\n",
       "0                                              False       \n",
       "1                                              False       \n",
       "2                                              False       \n",
       "3                                              False       \n",
       "4                                              False       \n",
       "\n",
       "   with Xylitol Unwrapped Original Flavor 50 Sticks Sugar Free Gum  \\\n",
       "0                                              False                 \n",
       "1                                              False                 \n",
       "2                                              False                 \n",
       "3                                              False                 \n",
       "4                                              False                 \n",
       "\n",
       "   with Xylitol Unwrapped Spearmint 50 Sticks Sugar Free Gum  \\\n",
       "0                                              False           \n",
       "1                                              False           \n",
       "2                                              False           \n",
       "3                                              False           \n",
       "4                                              False           \n",
       "\n",
       "   with Xylitol Watermelon Twist 18 Sticks Sugar Free Gum  \\\n",
       "0                                              False        \n",
       "1                                              False        \n",
       "2                                              False        \n",
       "3                                              False        \n",
       "4                                              False        \n",
       "\n",
       "   with a Splash of Mango Coconut Water  \\\n",
       "0                                 False   \n",
       "1                                 False   \n",
       "2                                 False   \n",
       "3                                 False   \n",
       "4                                 False   \n",
       "\n",
       "   with a Splash of Pineapple Coconut Water  \n",
       "0                                     False  \n",
       "1                                     False  \n",
       "2                                     False  \n",
       "3                                     False  \n",
       "4                                     False  \n",
       "\n",
       "[5 rows x 42814 columns]"
      ]
     },
     "execution_count": 21,
     "metadata": {},
     "output_type": "execute_result"
    }
   ],
   "source": [
    "te = TransactionEncoder()\n",
    "# te_ary = te.fit(dataset).transform(dataset)\n",
    "# df = pd.DataFrame(te_ary, columns=te.columns_)\n",
    "# df.head()\n",
    "\n",
    "# oht_ary = te.fit(dataset).transform(dataset, sparse=True)\n",
    "# sparse_df = pd.DataFrame.sparse.from_spmatrix(oht_ary, columns=te.columns_)\n",
    "# sparse_df"
   ]
  },
  {
   "cell_type": "code",
   "execution_count": 22,
   "metadata": {},
   "outputs": [
    {
     "data": {
      "text/html": [
       "<div>\n",
       "<style scoped>\n",
       "    .dataframe tbody tr th:only-of-type {\n",
       "        vertical-align: middle;\n",
       "    }\n",
       "\n",
       "    .dataframe tbody tr th {\n",
       "        vertical-align: top;\n",
       "    }\n",
       "\n",
       "    .dataframe thead th {\n",
       "        text-align: right;\n",
       "    }\n",
       "</style>\n",
       "<table border=\"1\" class=\"dataframe\">\n",
       "  <thead>\n",
       "    <tr style=\"text-align: right;\">\n",
       "      <th></th>\n",
       "      <th>#2 Coffee Filters</th>\n",
       "      <th>#2 Cone White Coffee Filters</th>\n",
       "      <th>#2 Mechanical Pencils</th>\n",
       "      <th>#4 Natural Brown Coffee Filters</th>\n",
       "      <th>&amp; Go! Hazelnut Spread + Pretzel Sticks</th>\n",
       "      <th>(70% Juice!) Mountain Raspberry Juice Squeeze</th>\n",
       "      <th>+Energy Black Cherry Vegetable &amp; Fruit Juice</th>\n",
       "      <th>.5\\\" Waterproof Tape</th>\n",
       "      <th>0 Calorie Fuji Apple Pear Water Beverage</th>\n",
       "      <th>0 Calorie Strawberry Dragonfruit Water Beverage</th>\n",
       "      <th>...</th>\n",
       "      <th>with Sweet Cinnamon Bunches Cereal</th>\n",
       "      <th>with Twist Ties Sandwich &amp; Storage Bags</th>\n",
       "      <th>with Xylitol Cinnamon 18 Sticks Sugar Free Gum</th>\n",
       "      <th>with Xylitol Island Berry Lime 18 Sticks Sugar Free Gum</th>\n",
       "      <th>with Xylitol Original Flavor 18 Sticks Sugar Free Gum</th>\n",
       "      <th>with Xylitol Unwrapped Original Flavor 50 Sticks Sugar Free Gum</th>\n",
       "      <th>with Xylitol Unwrapped Spearmint 50 Sticks Sugar Free Gum</th>\n",
       "      <th>with Xylitol Watermelon Twist 18 Sticks Sugar Free Gum</th>\n",
       "      <th>with a Splash of Mango Coconut Water</th>\n",
       "      <th>with a Splash of Pineapple Coconut Water</th>\n",
       "    </tr>\n",
       "  </thead>\n",
       "  <tbody>\n",
       "    <tr>\n",
       "      <th>0</th>\n",
       "      <td>False</td>\n",
       "      <td>False</td>\n",
       "      <td>False</td>\n",
       "      <td>False</td>\n",
       "      <td>False</td>\n",
       "      <td>False</td>\n",
       "      <td>False</td>\n",
       "      <td>False</td>\n",
       "      <td>False</td>\n",
       "      <td>False</td>\n",
       "      <td>...</td>\n",
       "      <td>False</td>\n",
       "      <td>False</td>\n",
       "      <td>False</td>\n",
       "      <td>False</td>\n",
       "      <td>False</td>\n",
       "      <td>False</td>\n",
       "      <td>False</td>\n",
       "      <td>False</td>\n",
       "      <td>False</td>\n",
       "      <td>False</td>\n",
       "    </tr>\n",
       "    <tr>\n",
       "      <th>1</th>\n",
       "      <td>False</td>\n",
       "      <td>False</td>\n",
       "      <td>False</td>\n",
       "      <td>False</td>\n",
       "      <td>False</td>\n",
       "      <td>False</td>\n",
       "      <td>False</td>\n",
       "      <td>False</td>\n",
       "      <td>False</td>\n",
       "      <td>False</td>\n",
       "      <td>...</td>\n",
       "      <td>False</td>\n",
       "      <td>False</td>\n",
       "      <td>False</td>\n",
       "      <td>False</td>\n",
       "      <td>False</td>\n",
       "      <td>False</td>\n",
       "      <td>False</td>\n",
       "      <td>False</td>\n",
       "      <td>False</td>\n",
       "      <td>False</td>\n",
       "    </tr>\n",
       "    <tr>\n",
       "      <th>2</th>\n",
       "      <td>False</td>\n",
       "      <td>False</td>\n",
       "      <td>False</td>\n",
       "      <td>False</td>\n",
       "      <td>False</td>\n",
       "      <td>False</td>\n",
       "      <td>False</td>\n",
       "      <td>False</td>\n",
       "      <td>False</td>\n",
       "      <td>False</td>\n",
       "      <td>...</td>\n",
       "      <td>False</td>\n",
       "      <td>False</td>\n",
       "      <td>False</td>\n",
       "      <td>False</td>\n",
       "      <td>False</td>\n",
       "      <td>False</td>\n",
       "      <td>False</td>\n",
       "      <td>False</td>\n",
       "      <td>False</td>\n",
       "      <td>False</td>\n",
       "    </tr>\n",
       "    <tr>\n",
       "      <th>3</th>\n",
       "      <td>False</td>\n",
       "      <td>False</td>\n",
       "      <td>False</td>\n",
       "      <td>False</td>\n",
       "      <td>False</td>\n",
       "      <td>False</td>\n",
       "      <td>False</td>\n",
       "      <td>False</td>\n",
       "      <td>False</td>\n",
       "      <td>False</td>\n",
       "      <td>...</td>\n",
       "      <td>False</td>\n",
       "      <td>False</td>\n",
       "      <td>False</td>\n",
       "      <td>False</td>\n",
       "      <td>False</td>\n",
       "      <td>False</td>\n",
       "      <td>False</td>\n",
       "      <td>False</td>\n",
       "      <td>False</td>\n",
       "      <td>False</td>\n",
       "    </tr>\n",
       "    <tr>\n",
       "      <th>4</th>\n",
       "      <td>False</td>\n",
       "      <td>False</td>\n",
       "      <td>False</td>\n",
       "      <td>False</td>\n",
       "      <td>False</td>\n",
       "      <td>False</td>\n",
       "      <td>False</td>\n",
       "      <td>False</td>\n",
       "      <td>False</td>\n",
       "      <td>False</td>\n",
       "      <td>...</td>\n",
       "      <td>False</td>\n",
       "      <td>False</td>\n",
       "      <td>False</td>\n",
       "      <td>False</td>\n",
       "      <td>False</td>\n",
       "      <td>False</td>\n",
       "      <td>False</td>\n",
       "      <td>False</td>\n",
       "      <td>False</td>\n",
       "      <td>False</td>\n",
       "    </tr>\n",
       "    <tr>\n",
       "      <th>...</th>\n",
       "      <td>...</td>\n",
       "      <td>...</td>\n",
       "      <td>...</td>\n",
       "      <td>...</td>\n",
       "      <td>...</td>\n",
       "      <td>...</td>\n",
       "      <td>...</td>\n",
       "      <td>...</td>\n",
       "      <td>...</td>\n",
       "      <td>...</td>\n",
       "      <td>...</td>\n",
       "      <td>...</td>\n",
       "      <td>...</td>\n",
       "      <td>...</td>\n",
       "      <td>...</td>\n",
       "      <td>...</td>\n",
       "      <td>...</td>\n",
       "      <td>...</td>\n",
       "      <td>...</td>\n",
       "      <td>...</td>\n",
       "      <td>...</td>\n",
       "    </tr>\n",
       "    <tr>\n",
       "      <th>389767</th>\n",
       "      <td>False</td>\n",
       "      <td>False</td>\n",
       "      <td>False</td>\n",
       "      <td>False</td>\n",
       "      <td>False</td>\n",
       "      <td>False</td>\n",
       "      <td>False</td>\n",
       "      <td>False</td>\n",
       "      <td>False</td>\n",
       "      <td>False</td>\n",
       "      <td>...</td>\n",
       "      <td>False</td>\n",
       "      <td>False</td>\n",
       "      <td>False</td>\n",
       "      <td>False</td>\n",
       "      <td>False</td>\n",
       "      <td>False</td>\n",
       "      <td>False</td>\n",
       "      <td>False</td>\n",
       "      <td>False</td>\n",
       "      <td>False</td>\n",
       "    </tr>\n",
       "    <tr>\n",
       "      <th>389768</th>\n",
       "      <td>False</td>\n",
       "      <td>False</td>\n",
       "      <td>False</td>\n",
       "      <td>False</td>\n",
       "      <td>False</td>\n",
       "      <td>False</td>\n",
       "      <td>False</td>\n",
       "      <td>False</td>\n",
       "      <td>False</td>\n",
       "      <td>False</td>\n",
       "      <td>...</td>\n",
       "      <td>False</td>\n",
       "      <td>False</td>\n",
       "      <td>False</td>\n",
       "      <td>False</td>\n",
       "      <td>False</td>\n",
       "      <td>False</td>\n",
       "      <td>False</td>\n",
       "      <td>False</td>\n",
       "      <td>False</td>\n",
       "      <td>False</td>\n",
       "    </tr>\n",
       "    <tr>\n",
       "      <th>389769</th>\n",
       "      <td>False</td>\n",
       "      <td>False</td>\n",
       "      <td>False</td>\n",
       "      <td>False</td>\n",
       "      <td>False</td>\n",
       "      <td>False</td>\n",
       "      <td>False</td>\n",
       "      <td>False</td>\n",
       "      <td>False</td>\n",
       "      <td>False</td>\n",
       "      <td>...</td>\n",
       "      <td>False</td>\n",
       "      <td>False</td>\n",
       "      <td>False</td>\n",
       "      <td>False</td>\n",
       "      <td>False</td>\n",
       "      <td>False</td>\n",
       "      <td>False</td>\n",
       "      <td>False</td>\n",
       "      <td>False</td>\n",
       "      <td>False</td>\n",
       "    </tr>\n",
       "    <tr>\n",
       "      <th>389770</th>\n",
       "      <td>False</td>\n",
       "      <td>False</td>\n",
       "      <td>False</td>\n",
       "      <td>False</td>\n",
       "      <td>False</td>\n",
       "      <td>False</td>\n",
       "      <td>False</td>\n",
       "      <td>False</td>\n",
       "      <td>False</td>\n",
       "      <td>False</td>\n",
       "      <td>...</td>\n",
       "      <td>False</td>\n",
       "      <td>False</td>\n",
       "      <td>False</td>\n",
       "      <td>False</td>\n",
       "      <td>False</td>\n",
       "      <td>False</td>\n",
       "      <td>False</td>\n",
       "      <td>False</td>\n",
       "      <td>False</td>\n",
       "      <td>False</td>\n",
       "    </tr>\n",
       "    <tr>\n",
       "      <th>389771</th>\n",
       "      <td>False</td>\n",
       "      <td>False</td>\n",
       "      <td>False</td>\n",
       "      <td>False</td>\n",
       "      <td>False</td>\n",
       "      <td>False</td>\n",
       "      <td>False</td>\n",
       "      <td>False</td>\n",
       "      <td>False</td>\n",
       "      <td>False</td>\n",
       "      <td>...</td>\n",
       "      <td>False</td>\n",
       "      <td>False</td>\n",
       "      <td>False</td>\n",
       "      <td>False</td>\n",
       "      <td>False</td>\n",
       "      <td>False</td>\n",
       "      <td>False</td>\n",
       "      <td>False</td>\n",
       "      <td>False</td>\n",
       "      <td>False</td>\n",
       "    </tr>\n",
       "  </tbody>\n",
       "</table>\n",
       "<p>389772 rows × 42814 columns</p>\n",
       "</div>"
      ],
      "text/plain": [
       "        #2 Coffee Filters  #2 Cone White Coffee Filters  \\\n",
       "0                   False                         False   \n",
       "1                   False                         False   \n",
       "2                   False                         False   \n",
       "3                   False                         False   \n",
       "4                   False                         False   \n",
       "...                   ...                           ...   \n",
       "389767              False                         False   \n",
       "389768              False                         False   \n",
       "389769              False                         False   \n",
       "389770              False                         False   \n",
       "389771              False                         False   \n",
       "\n",
       "        #2 Mechanical Pencils  #4 Natural Brown Coffee Filters  \\\n",
       "0                       False                            False   \n",
       "1                       False                            False   \n",
       "2                       False                            False   \n",
       "3                       False                            False   \n",
       "4                       False                            False   \n",
       "...                       ...                              ...   \n",
       "389767                  False                            False   \n",
       "389768                  False                            False   \n",
       "389769                  False                            False   \n",
       "389770                  False                            False   \n",
       "389771                  False                            False   \n",
       "\n",
       "        & Go! Hazelnut Spread + Pretzel Sticks  \\\n",
       "0                                        False   \n",
       "1                                        False   \n",
       "2                                        False   \n",
       "3                                        False   \n",
       "4                                        False   \n",
       "...                                        ...   \n",
       "389767                                   False   \n",
       "389768                                   False   \n",
       "389769                                   False   \n",
       "389770                                   False   \n",
       "389771                                   False   \n",
       "\n",
       "        (70% Juice!) Mountain Raspberry Juice Squeeze  \\\n",
       "0                                               False   \n",
       "1                                               False   \n",
       "2                                               False   \n",
       "3                                               False   \n",
       "4                                               False   \n",
       "...                                               ...   \n",
       "389767                                          False   \n",
       "389768                                          False   \n",
       "389769                                          False   \n",
       "389770                                          False   \n",
       "389771                                          False   \n",
       "\n",
       "        +Energy Black Cherry Vegetable & Fruit Juice  .5\\\" Waterproof Tape  \\\n",
       "0                                              False                 False   \n",
       "1                                              False                 False   \n",
       "2                                              False                 False   \n",
       "3                                              False                 False   \n",
       "4                                              False                 False   \n",
       "...                                              ...                   ...   \n",
       "389767                                         False                 False   \n",
       "389768                                         False                 False   \n",
       "389769                                         False                 False   \n",
       "389770                                         False                 False   \n",
       "389771                                         False                 False   \n",
       "\n",
       "        0 Calorie Fuji Apple Pear Water Beverage  \\\n",
       "0                                          False   \n",
       "1                                          False   \n",
       "2                                          False   \n",
       "3                                          False   \n",
       "4                                          False   \n",
       "...                                          ...   \n",
       "389767                                     False   \n",
       "389768                                     False   \n",
       "389769                                     False   \n",
       "389770                                     False   \n",
       "389771                                     False   \n",
       "\n",
       "        0 Calorie Strawberry Dragonfruit Water Beverage  ...  \\\n",
       "0                                                 False  ...   \n",
       "1                                                 False  ...   \n",
       "2                                                 False  ...   \n",
       "3                                                 False  ...   \n",
       "4                                                 False  ...   \n",
       "...                                                 ...  ...   \n",
       "389767                                            False  ...   \n",
       "389768                                            False  ...   \n",
       "389769                                            False  ...   \n",
       "389770                                            False  ...   \n",
       "389771                                            False  ...   \n",
       "\n",
       "        with Sweet Cinnamon Bunches Cereal  \\\n",
       "0                                    False   \n",
       "1                                    False   \n",
       "2                                    False   \n",
       "3                                    False   \n",
       "4                                    False   \n",
       "...                                    ...   \n",
       "389767                               False   \n",
       "389768                               False   \n",
       "389769                               False   \n",
       "389770                               False   \n",
       "389771                               False   \n",
       "\n",
       "        with Twist Ties Sandwich & Storage Bags  \\\n",
       "0                                         False   \n",
       "1                                         False   \n",
       "2                                         False   \n",
       "3                                         False   \n",
       "4                                         False   \n",
       "...                                         ...   \n",
       "389767                                    False   \n",
       "389768                                    False   \n",
       "389769                                    False   \n",
       "389770                                    False   \n",
       "389771                                    False   \n",
       "\n",
       "        with Xylitol Cinnamon 18 Sticks Sugar Free Gum  \\\n",
       "0                                                False   \n",
       "1                                                False   \n",
       "2                                                False   \n",
       "3                                                False   \n",
       "4                                                False   \n",
       "...                                                ...   \n",
       "389767                                           False   \n",
       "389768                                           False   \n",
       "389769                                           False   \n",
       "389770                                           False   \n",
       "389771                                           False   \n",
       "\n",
       "        with Xylitol Island Berry Lime 18 Sticks Sugar Free Gum  \\\n",
       "0                                                   False         \n",
       "1                                                   False         \n",
       "2                                                   False         \n",
       "3                                                   False         \n",
       "4                                                   False         \n",
       "...                                                   ...         \n",
       "389767                                              False         \n",
       "389768                                              False         \n",
       "389769                                              False         \n",
       "389770                                              False         \n",
       "389771                                              False         \n",
       "\n",
       "        with Xylitol Original Flavor 18 Sticks Sugar Free Gum  \\\n",
       "0                                                   False       \n",
       "1                                                   False       \n",
       "2                                                   False       \n",
       "3                                                   False       \n",
       "4                                                   False       \n",
       "...                                                   ...       \n",
       "389767                                              False       \n",
       "389768                                              False       \n",
       "389769                                              False       \n",
       "389770                                              False       \n",
       "389771                                              False       \n",
       "\n",
       "        with Xylitol Unwrapped Original Flavor 50 Sticks Sugar Free Gum  \\\n",
       "0                                                   False                 \n",
       "1                                                   False                 \n",
       "2                                                   False                 \n",
       "3                                                   False                 \n",
       "4                                                   False                 \n",
       "...                                                   ...                 \n",
       "389767                                              False                 \n",
       "389768                                              False                 \n",
       "389769                                              False                 \n",
       "389770                                              False                 \n",
       "389771                                              False                 \n",
       "\n",
       "        with Xylitol Unwrapped Spearmint 50 Sticks Sugar Free Gum  \\\n",
       "0                                                   False           \n",
       "1                                                   False           \n",
       "2                                                   False           \n",
       "3                                                   False           \n",
       "4                                                   False           \n",
       "...                                                   ...           \n",
       "389767                                              False           \n",
       "389768                                              False           \n",
       "389769                                              False           \n",
       "389770                                              False           \n",
       "389771                                              False           \n",
       "\n",
       "        with Xylitol Watermelon Twist 18 Sticks Sugar Free Gum  \\\n",
       "0                                                   False        \n",
       "1                                                   False        \n",
       "2                                                   False        \n",
       "3                                                   False        \n",
       "4                                                   False        \n",
       "...                                                   ...        \n",
       "389767                                              False        \n",
       "389768                                              False        \n",
       "389769                                              False        \n",
       "389770                                              False        \n",
       "389771                                              False        \n",
       "\n",
       "        with a Splash of Mango Coconut Water  \\\n",
       "0                                      False   \n",
       "1                                      False   \n",
       "2                                      False   \n",
       "3                                      False   \n",
       "4                                      False   \n",
       "...                                      ...   \n",
       "389767                                 False   \n",
       "389768                                 False   \n",
       "389769                                 False   \n",
       "389770                                 False   \n",
       "389771                                 False   \n",
       "\n",
       "        with a Splash of Pineapple Coconut Water  \n",
       "0                                          False  \n",
       "1                                          False  \n",
       "2                                          False  \n",
       "3                                          False  \n",
       "4                                          False  \n",
       "...                                          ...  \n",
       "389767                                     False  \n",
       "389768                                     False  \n",
       "389769                                     False  \n",
       "389770                                     False  \n",
       "389771                                     False  \n",
       "\n",
       "[389772 rows x 42814 columns]"
      ]
     },
     "execution_count": 22,
     "metadata": {},
     "output_type": "execute_result"
    }
   ],
   "source": [
    "oht_ary = te.fit(dataset).transform(dataset, sparse=True)\n",
    "sparse_df = pd.DataFrame.sparse.from_spmatrix(oht_ary, columns=te.columns_)\n",
    "sparse_df[:5]"
   ]
  },
  {
   "cell_type": "code",
   "execution_count": 24,
   "metadata": {},
   "outputs": [
    {
     "data": {
      "text/html": [
       "<div>\n",
       "<style scoped>\n",
       "    .dataframe tbody tr th:only-of-type {\n",
       "        vertical-align: middle;\n",
       "    }\n",
       "\n",
       "    .dataframe tbody tr th {\n",
       "        vertical-align: top;\n",
       "    }\n",
       "\n",
       "    .dataframe thead th {\n",
       "        text-align: right;\n",
       "    }\n",
       "</style>\n",
       "<table border=\"1\" class=\"dataframe\">\n",
       "  <thead>\n",
       "    <tr style=\"text-align: right;\">\n",
       "      <th></th>\n",
       "      <th>support</th>\n",
       "      <th>itemsets</th>\n",
       "    </tr>\n",
       "  </thead>\n",
       "  <tbody>\n",
       "    <tr>\n",
       "      <th>0</th>\n",
       "      <td>0.023232</td>\n",
       "      <td>(Carrots)</td>\n",
       "    </tr>\n",
       "    <tr>\n",
       "      <th>1</th>\n",
       "      <td>0.021017</td>\n",
       "      <td>(Michigan Organic Kale)</td>\n",
       "    </tr>\n",
       "    <tr>\n",
       "      <th>2</th>\n",
       "      <td>0.006429</td>\n",
       "      <td>(Organic Egg Whites)</td>\n",
       "    </tr>\n",
       "    <tr>\n",
       "      <th>3</th>\n",
       "      <td>0.001986</td>\n",
       "      <td>(Garlic Powder)</td>\n",
       "    </tr>\n",
       "    <tr>\n",
       "      <th>4</th>\n",
       "      <td>0.007815</td>\n",
       "      <td>(Original Orange Juice)</td>\n",
       "    </tr>\n",
       "  </tbody>\n",
       "</table>\n",
       "</div>"
      ],
      "text/plain": [
       "    support                 itemsets\n",
       "0  0.023232                (Carrots)\n",
       "1  0.021017  (Michigan Organic Kale)\n",
       "2  0.006429     (Organic Egg Whites)\n",
       "3  0.001986          (Garlic Powder)\n",
       "4  0.007815  (Original Orange Juice)"
      ]
     },
     "execution_count": 24,
     "metadata": {},
     "output_type": "execute_result"
    }
   ],
   "source": [
    "#from mlxtend.frequent_patterns import fpgrowth\n",
    "fp_df = fpgrowth(sparse_df, min_support=0.001, use_colnames=True)\n",
    "fp_df[:5]"
   ]
  },
  {
   "cell_type": "code",
   "execution_count": 25,
   "metadata": {},
   "outputs": [],
   "source": [
    "fp_df[\"length\"] = fp_df[\"itemsets\"].apply(lambda x: len(x))"
   ]
  },
  {
   "cell_type": "code",
   "execution_count": 35,
   "metadata": {},
   "outputs": [],
   "source": [
    "fp_df = fp_df.sort_values(\"support\",ascending= False)"
   ]
  },
  {
   "cell_type": "code",
   "execution_count": 41,
   "metadata": {},
   "outputs": [
    {
     "data": {
      "text/html": [
       "<div>\n",
       "<style scoped>\n",
       "    .dataframe tbody tr th:only-of-type {\n",
       "        vertical-align: middle;\n",
       "    }\n",
       "\n",
       "    .dataframe tbody tr th {\n",
       "        vertical-align: top;\n",
       "    }\n",
       "\n",
       "    .dataframe thead th {\n",
       "        text-align: right;\n",
       "    }\n",
       "</style>\n",
       "<table border=\"1\" class=\"dataframe\">\n",
       "  <thead>\n",
       "    <tr style=\"text-align: right;\">\n",
       "      <th></th>\n",
       "      <th>support</th>\n",
       "      <th>itemsets</th>\n",
       "      <th>length</th>\n",
       "    </tr>\n",
       "  </thead>\n",
       "  <tbody>\n",
       "    <tr>\n",
       "      <th>2479</th>\n",
       "      <td>0.004746</td>\n",
       "      <td>(Bag of Organic Bananas, Organic Strawberries, Organic Hass Avocado)</td>\n",
       "      <td>3</td>\n",
       "    </tr>\n",
       "    <tr>\n",
       "      <th>2480</th>\n",
       "      <td>0.003761</td>\n",
       "      <td>(Bag of Organic Bananas, Organic Baby Spinach, Organic Hass Avocado)</td>\n",
       "      <td>3</td>\n",
       "    </tr>\n",
       "    <tr>\n",
       "      <th>2052</th>\n",
       "      <td>0.003505</td>\n",
       "      <td>(Organic Strawberries, Organic Raspberries, Bag of Organic Bananas)</td>\n",
       "      <td>3</td>\n",
       "    </tr>\n",
       "    <tr>\n",
       "      <th>2192</th>\n",
       "      <td>0.003474</td>\n",
       "      <td>(Organic Strawberries, Organic Baby Spinach, Bag of Organic Bananas)</td>\n",
       "      <td>3</td>\n",
       "    </tr>\n",
       "    <tr>\n",
       "      <th>2054</th>\n",
       "      <td>0.003461</td>\n",
       "      <td>(Bag of Organic Bananas, Organic Raspberries, Organic Hass Avocado)</td>\n",
       "      <td>3</td>\n",
       "    </tr>\n",
       "    <tr>\n",
       "      <th>1886</th>\n",
       "      <td>0.003104</td>\n",
       "      <td>(Banana, Organic Baby Spinach, Organic Avocado)</td>\n",
       "      <td>3</td>\n",
       "    </tr>\n",
       "    <tr>\n",
       "      <th>1888</th>\n",
       "      <td>0.003053</td>\n",
       "      <td>(Banana, Organic Strawberries, Organic Avocado)</td>\n",
       "      <td>3</td>\n",
       "    </tr>\n",
       "    <tr>\n",
       "      <th>2191</th>\n",
       "      <td>0.002773</td>\n",
       "      <td>(Banana, Organic Strawberries, Organic Baby Spinach)</td>\n",
       "      <td>3</td>\n",
       "    </tr>\n",
       "    <tr>\n",
       "      <th>2481</th>\n",
       "      <td>0.002576</td>\n",
       "      <td>(Organic Strawberries, Organic Baby Spinach, Organic Hass Avocado)</td>\n",
       "      <td>3</td>\n",
       "    </tr>\n",
       "    <tr>\n",
       "      <th>2053</th>\n",
       "      <td>0.002555</td>\n",
       "      <td>(Organic Strawberries, Organic Raspberries, Organic Hass Avocado)</td>\n",
       "      <td>3</td>\n",
       "    </tr>\n",
       "  </tbody>\n",
       "</table>\n",
       "</div>"
      ],
      "text/plain": [
       "       support  \\\n",
       "2479  0.004746   \n",
       "2480  0.003761   \n",
       "2052  0.003505   \n",
       "2192  0.003474   \n",
       "2054  0.003461   \n",
       "1886  0.003104   \n",
       "1888  0.003053   \n",
       "2191  0.002773   \n",
       "2481  0.002576   \n",
       "2053  0.002555   \n",
       "\n",
       "                                                                  itemsets  \\\n",
       "2479  (Bag of Organic Bananas, Organic Strawberries, Organic Hass Avocado)   \n",
       "2480  (Bag of Organic Bananas, Organic Baby Spinach, Organic Hass Avocado)   \n",
       "2052  (Organic Strawberries, Organic Raspberries, Bag of Organic Bananas)    \n",
       "2192  (Organic Strawberries, Organic Baby Spinach, Bag of Organic Bananas)   \n",
       "2054  (Bag of Organic Bananas, Organic Raspberries, Organic Hass Avocado)    \n",
       "1886  (Banana, Organic Baby Spinach, Organic Avocado)                        \n",
       "1888  (Banana, Organic Strawberries, Organic Avocado)                        \n",
       "2191  (Banana, Organic Strawberries, Organic Baby Spinach)                   \n",
       "2481  (Organic Strawberries, Organic Baby Spinach, Organic Hass Avocado)     \n",
       "2053  (Organic Strawberries, Organic Raspberries, Organic Hass Avocado)      \n",
       "\n",
       "      length  \n",
       "2479  3       \n",
       "2480  3       \n",
       "2052  3       \n",
       "2192  3       \n",
       "2054  3       \n",
       "1886  3       \n",
       "1888  3       \n",
       "2191  3       \n",
       "2481  3       \n",
       "2053  3       "
      ]
     },
     "execution_count": 41,
     "metadata": {},
     "output_type": "execute_result"
    }
   ],
   "source": [
    "fp_df[fp_df[\"length\"]>2][:10]"
   ]
  },
  {
   "cell_type": "markdown",
   "metadata": {},
   "source": [
    "we can surface these products so customers can add them to carts on 1 click!"
   ]
  },
  {
   "cell_type": "markdown",
   "metadata": {},
   "source": [
    "# to do \n",
    "recommend based on shopping frequency?\n",
    "user clustering and rec based on clustering\n",
    "collaborative filtering"
   ]
  },
  {
   "cell_type": "code",
   "execution_count": null,
   "metadata": {},
   "outputs": [],
   "source": []
  }
 ],
 "metadata": {
  "kernelspec": {
   "display_name": "Python 3",
   "language": "python",
   "name": "python3"
  },
  "language_info": {
   "codemirror_mode": {
    "name": "ipython",
    "version": 3
   },
   "file_extension": ".py",
   "mimetype": "text/x-python",
   "name": "python",
   "nbconvert_exporter": "python",
   "pygments_lexer": "ipython3",
   "version": "3.6.8"
  }
 },
 "nbformat": 4,
 "nbformat_minor": 2
}
